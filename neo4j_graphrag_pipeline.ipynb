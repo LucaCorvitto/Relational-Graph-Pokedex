{
 "cells": [
  {
   "cell_type": "markdown",
   "id": "162c8616",
   "metadata": {},
   "source": [
    "To use this retriever, we first need to write the Cypher query to specify exactly what \n",
    "additional information to fetch along with the node retrieved through vector search. \n",
    "For example, to retrieve actor information along with the Movie nodes, we can use the following query:"
   ]
  },
  {
   "cell_type": "code",
   "execution_count": null,
   "id": "63c9d4a4",
   "metadata": {},
   "outputs": [],
   "source": [
    "retrieval_query = \"\"\"\n",
    "MATCH\n",
    "(actor:Actor)-[:ACTED_IN]->(node)\n",
    "RETURN\n",
    "node.title AS movie_title,\n",
    "node.plot AS movie_plot, \n",
    "collect(actor.name) AS actors;\n",
    "\"\"\"\n"
   ]
  },
  {
   "cell_type": "markdown",
   "id": "5f89526c",
   "metadata": {},
   "source": [
    "The node variable in this query is a reference to the nodes retrieved through \n",
    "the initial vector search step, which here are Movie nodes. \n",
    "This query finds all of the actors who have acted in each of the movies and returns their names \n",
    "along with the title and plot of the movie."
   ]
  },
  {
   "cell_type": "code",
   "execution_count": null,
   "id": "95d228dd",
   "metadata": {},
   "outputs": [],
   "source": [
    "from neo4j import GraphDatabase\n",
    "from neo4j_graphrag.embeddings.openai import OpenAIEmbeddings\n",
    "#from neo4j_graphrag.embeddings.ollama import OllamaEmbeddings\n",
    "from neo4j_graphrag.retrievers import VectorCypherRetriever\n",
    "\n",
    "### DO THIS IN UTILS TO DEFINE THE RETRIEVER ###\n",
    "driver = GraphDatabase.driver(URI, auth=AUTH) #define your specific driver\n",
    "embedder = OpenAIEmbeddings(model=\"text-embedding-ada-002\")\n",
    "vc_retriever = VectorCypherRetriever(\n",
    "    driver,\n",
    "    index_name=\"moviePlotsEmbedding\",\n",
    "    embedder=embedder,\n",
    "    retrieval_query=retrieval_query,\n",
    ")\n"
   ]
  },
  {
   "cell_type": "markdown",
   "id": "7ca7855a",
   "metadata": {},
   "source": [
    "Then, when passing a query text, the output should be like this:"
   ]
  },
  {
   "cell_type": "code",
   "execution_count": null,
   "id": "857c3900",
   "metadata": {},
   "outputs": [],
   "source": [
    "query_text = \"Who were the actors in the movie about the magic jungle board game?\"\n",
    "retriever_result = vc_retriever.search(query_text=query_text, top_k=3)\n",
    "\n",
    "# items=[\n",
    "#   RetrieverResultItem(content=\"<Record\n",
    "#     movie_title='Jumanji'\n",
    "#     movie_plot='When two kids find and play a magical board game, they release a man trapped for decades in it and a host of dangers that can only be stopped by finishing the game.'\n",
    "#     actors=['Robin Williams', 'Bradley Pierce', 'Kirsten Dunst', 'Jonathan Hyde']>\",\n",
    "#     metadata=None),\n",
    "#   RetrieverResultItem(content=\"<Record\n",
    "#     movie_title='Welcome to the Jungle'\n",
    "#     movie_plot='A company retreat on a tropical island goes terribly awry.'\n",
    "#     actors=['Jean-Claude Van Damme', 'Adam Brody', 'Rob Huebel', 'Kristen Schaal']>\",\n",
    "#     metadata=None),\n",
    "#   RetrieverResultItem(content='<Record\n",
    "#     movie_title='Last Mimzy, The'\n",
    "#     movie_plot='Two siblings begin to develop special talents after they find a mysterious box of toys. Soon the kids, their parents, and even their teacher are drawn into a strange new world and find a task ahead of them that is far more important than any of them could imagine!'\n",
    "#     actors=['Joely Richardson', 'Rhiannon Leigh Wryn', 'Timothy Hutton', \"Chris O'Neil\"]>',\n",
    "#     metadata=None)\n",
    "# ]\n",
    "metadata={'__retriever': 'VectorCypherRetriever'}\n"
   ]
  },
  {
   "cell_type": "markdown",
   "id": "d97bfdcf",
   "metadata": {},
   "source": [
    "And this is the pipeline, easy:"
   ]
  },
  {
   "cell_type": "code",
   "execution_count": null,
   "id": "868cf6c3",
   "metadata": {},
   "outputs": [],
   "source": [
    "from neo4j_graphrag.llm import OpenAILLM\n",
    "#from neo4j_graphrag.llm import OllamaLLM\n",
    "from neo4j_graphrag.generation import GraphRAG\n",
    "\n",
    "# LLM\n",
    "# Note: the OPENAI_API_KEY must be in the env vars\n",
    "llm = OpenAILLM(model_name=\"gpt-4o\", model_params={\"temperature\": 0})\n",
    "#llm = OpenAILLM(model_name=\"llama3.1:8b\", model_params={\"temperature\": 0})\n",
    "\n",
    "# Initialize the RAG pipeline\n",
    "rag = GraphRAG(retriever=vc_retriever, llm=llm)\n",
    "\n",
    "# Query the graph\n",
    "query_text = \"Who were the actors in the movie about the magic jungle board game?\"\n",
    "response = rag.search(query=query_text, retriever_config={\"top_k\": 3})\n",
    "print(response.answer)"
   ]
  }
 ],
 "metadata": {
  "language_info": {
   "name": "python"
  }
 },
 "nbformat": 4,
 "nbformat_minor": 5
}
